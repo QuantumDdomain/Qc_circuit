{
 "cells": [
  {
   "cell_type": "code",
   "execution_count": 14,
   "metadata": {},
   "outputs": [
    {
     "name": "stdout",
     "output_type": "stream",
     "text": [
      "Final state of Bob's qubit: Statevector([0.70710678+0.00000000e+00j, 0.        +0.00000000e+00j,\n",
      "             0.        +0.00000000e+00j, 0.        +0.00000000e+00j,\n",
      "             0.70710678-8.65956056e-17j, 0.        -0.00000000e+00j,\n",
      "             0.        +0.00000000e+00j, 0.        -0.00000000e+00j],\n",
      "            dims=(2, 2, 2))\n"
     ]
    }
   ],
   "source": [
    "from qiskit import QuantumCircuit\n",
    "from qiskit_aer import Aer\n",
    "from qiskit.visualization import plot_histogram\n",
    "\n",
    "# Define the quantum teleportation circuit\n",
    "qc = QuantumCircuit(3, 2)  # 3 qubits: |psi>, Alice's qubit, Bob's qubit, and 2 classical bits\n",
    "\n",
    "# Step 1: Create the entangled EPR pair between qubit 1 (Alice's) and qubit 2 (Bob's)\n",
    "qc.h(1)  # Apply Hadamard gate on Alice's qubit\n",
    "qc.cx(1, 2)  # Apply CNOT gate with Alice's qubit as control and Bob's as target\n",
    "\n",
    "# Step 2: Prepare the state |psi> on qubit 0 (state to be teleported)\n",
    "\n",
    "# qc.rx(1.23, 0)  # Example: Rotate qubit 0 around X-axis by 1.23 radians\n",
    "# qc.ry(2.34, 0)  # Example: Rotate qubit 0 around Y-axis by 2.34 radians\n",
    "\n",
    "qc.h(0) #Rather using |+> state for continuity of the statevectors\n",
    "\n",
    "# Step 3: Alice performs a Bell-state measurement on qubit 0 and her EPR qubit (qubit 1)\n",
    "qc.cx(0, 1)  # CNOT gate between |psi> and Alice's qubit\n",
    "qc.h(0)  # Apply Hadamard gate on |psi>\n",
    "qc.measure([0, 1], [0, 1])  # Measure qubit 0 and qubit 1 into classical bits 0 and 1\n",
    "\n",
    "# Step 4: Bob applies the appropriate operation based on Alice's measurement results\n",
    "qc.cx(1, 2)  # Conditional X gate on Bob's qubit\n",
    "qc.cz(0, 2)  # Conditional Z gate on Bob's qubit\n",
    "\n",
    "# Simulate the circuit\n",
    "backend = Aer.get_backend('statevector_simulator')\n",
    "result = backend.run(qc, shots=1024).result()\n",
    "statevector = result.get_statevector()\n",
    "\n",
    "# Output the final state of Bob's qubit\n",
    "print(\"Final state of Bob's qubit:\", statevector)"
   ]
  },
  {
   "cell_type": "code",
   "execution_count": null,
   "metadata": {},
   "outputs": [],
   "source": []
  }
 ],
 "metadata": {
  "kernelspec": {
   "display_name": "qiskit-env",
   "language": "python",
   "name": "python3"
  },
  "language_info": {
   "name": "python",
   "version": "3.13.1"
  }
 },
 "nbformat": 4,
 "nbformat_minor": 2
}
