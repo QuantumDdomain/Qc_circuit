{
 "cells": [
  {
   "cell_type": "code",
   "execution_count": 1,
   "metadata": {},
   "outputs": [
    {
     "name": "stdout",
     "output_type": "stream",
     "text": [
      "⎡ 0   1/2⎤\n",
      "⎢        ⎥\n",
      "⎣1/2   0 ⎦\n",
      "⎡   -ⅈ ⎤\n",
      "⎢0  ───⎥\n",
      "⎢    2 ⎥\n",
      "⎢      ⎥\n",
      "⎢ⅈ     ⎥\n",
      "⎢─   0 ⎥\n",
      "⎣2     ⎦\n",
      "⎡1/2   0  ⎤\n",
      "⎢         ⎥\n",
      "⎣ 0   -1/2⎦\n",
      "Jx = (hbar/(2*pi)) * Jx_matrix\n",
      "Jy = (hbar/(2*pi)) * Jy_matrix\n",
      "Jz = (hbar/(2*pi)) * Jz_matrix\n"
     ]
    }
   ],
   "source": [
    "import sympy as sp\n",
    "import numpy as np\n",
    "\n",
    "def array(j):\n",
    "    dim = int(2*j + 1)\n",
    "    A = np.zeros(dim, dtype=object)  \n",
    "    for i in range(dim):\n",
    "        A[i] = j - i  \n",
    "    return A\n",
    "\n",
    "j = sp.Rational(input(\"Enter value of j: \"))  \n",
    "A = array(j)  \n",
    "\n",
    "def Jx(j, A):\n",
    "    dim = len(A)  \n",
    "    B = sp.zeros(dim, dim)  \n",
    "\n",
    "    for i in range(dim):\n",
    "        for k in range(dim):\n",
    "            a, b = 0, 0  \n",
    "            if A[i] == A[k] + 1:\n",
    "                a = sp.sqrt((j - A[k]) * (j + A[k] + 1))\n",
    "            if A[i] == A[k] - 1:\n",
    "                b = sp.sqrt((j + A[k]) * (j - A[k] + 1))\n",
    "            B[i, k] = (a + b) / 2  \n",
    "    \n",
    "    return B \n",
    " \n",
    "def Jy(j, A):\n",
    "    dim = len(A)  \n",
    "    B = sp.zeros(dim, dim)  \n",
    "\n",
    "    for i in range(dim):\n",
    "        for k in range(dim):\n",
    "            a, b = 0, 0  \n",
    "            if A[i] == A[k] + 1:\n",
    "                a = sp.sqrt((j - A[k]) * (j + A[k] + 1))\n",
    "            if A[i] == A[k] - 1:\n",
    "                b = sp.sqrt((j + A[k]) * (j - A[k] + 1))\n",
    "            B[i, k] = ((a - b) / (2*(sp.I) )) \n",
    "    \n",
    "    return B  \n",
    "\n",
    "def Jz(j, A):\n",
    "    dim = len(A)  \n",
    "    B = sp.zeros(dim, dim)  \n",
    "\n",
    "    for i in range(dim):\n",
    "        for k in range(dim):\n",
    "            a, b = 0, 0  \n",
    "            if A[i] == A[k]:\n",
    "                B[i, k] = A[k]\n",
    "    \n",
    "    return B\n",
    "\n",
    "Jx_matrix = Jx(j, A)  \n",
    "Jy_matrix = Jy(j, A)  \n",
    "Jz_matrix = Jz(j, A)  \n",
    "\n",
    "sp.pprint(Jx_matrix)\n",
    "sp.pprint(Jy_matrix)\n",
    "sp.pprint(Jz_matrix)\n",
    "\n",
    "print(\"Jx = (hbar/(2*pi)) * Jx_matrix\")\n",
    "print(\"Jy = (hbar/(2*pi)) * Jy_matrix\")\n",
    "print(\"Jz = (hbar/(2*pi)) * Jz_matrix\")"
   ]
  },
  {
   "cell_type": "code",
   "execution_count": null,
   "metadata": {},
   "outputs": [],
   "source": []
  }
 ],
 "metadata": {
  "kernelspec": {
   "display_name": "qiskit-env",
   "language": "python",
   "name": "python3"
  },
  "language_info": {
   "codemirror_mode": {
    "name": "ipython",
    "version": 3
   },
   "file_extension": ".py",
   "mimetype": "text/x-python",
   "name": "python",
   "nbconvert_exporter": "python",
   "pygments_lexer": "ipython3",
   "version": "3.13.1"
  }
 },
 "nbformat": 4,
 "nbformat_minor": 2
}
