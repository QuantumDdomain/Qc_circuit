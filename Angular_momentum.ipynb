{
 "cells": [
  {
   "cell_type": "code",
   "execution_count": 9,
   "metadata": {},
   "outputs": [],
   "source": [
    "import sympy as sp\n",
    "import numpy as np"
   ]
  },
  {
   "cell_type": "code",
   "execution_count": 10,
   "metadata": {},
   "outputs": [],
   "source": [
    "def array(j):\n",
    "    dim = int(2*j + 1)\n",
    "    A = np.zeros(dim, dtype=object)  \n",
    "    for i in range(dim):\n",
    "        A[i] = j - i  \n",
    "    return A\n",
    "\n",
    "j = sp.Rational(input(\"Enter value of j: \"))  \n",
    "A = array(j)  "
   ]
  },
  {
   "cell_type": "markdown",
   "metadata": {},
   "source": [
    "$Total$ $Angular$ $Momentum$ $in$ $X$ ($Jx$)"
   ]
  },
  {
   "cell_type": "code",
   "execution_count": 11,
   "metadata": {},
   "outputs": [],
   "source": [
    "def Jx(j, A):\n",
    "    dim = len(A)  \n",
    "    B = sp.zeros(dim, dim)  \n",
    "\n",
    "    for i in range(dim):\n",
    "        for k in range(dim):\n",
    "            a, b = 0, 0  \n",
    "            if A[i] == A[k] + 1:\n",
    "                a = sp.sqrt((j - A[k]) * (j + A[k] + 1))\n",
    "            if A[i] == A[k] - 1:\n",
    "                b = sp.sqrt((j + A[k]) * (j - A[k] + 1))\n",
    "            B[i, k] = (a + b) / 2  \n",
    "    \n",
    "    return B "
   ]
  },
  {
   "cell_type": "markdown",
   "metadata": {},
   "source": [
    "$Total$ $Angular$ $Momentum$ $in$ $Y$ ($Jy$)"
   ]
  },
  {
   "cell_type": "code",
   "execution_count": 12,
   "metadata": {},
   "outputs": [],
   "source": [
    "def Jy(j, A):\n",
    "    dim = len(A)  \n",
    "    B = sp.zeros(dim, dim)  \n",
    "\n",
    "    for i in range(dim):\n",
    "        for k in range(dim):\n",
    "            a, b = 0, 0  \n",
    "            if A[i] == A[k] + 1:\n",
    "                a = sp.sqrt((j - A[k]) * (j + A[k] + 1))\n",
    "            if A[i] == A[k] - 1:\n",
    "                b = sp.sqrt((j + A[k]) * (j - A[k] + 1))\n",
    "            B[i, k] = ((a - b) / (2*(sp.I) )) \n",
    "    \n",
    "    return B "
   ]
  },
  {
   "cell_type": "markdown",
   "metadata": {},
   "source": [
    "$Total$ $Angular$ $Momentum$ $in$ $Z$ ($Jz$)"
   ]
  },
  {
   "cell_type": "code",
   "execution_count": 13,
   "metadata": {},
   "outputs": [],
   "source": [
    "def Jz(j, A):\n",
    "    dim = len(A)  \n",
    "    B = sp.zeros(dim, dim)  \n",
    "\n",
    "    for i in range(dim):\n",
    "        for k in range(dim):\n",
    "            a, b = 0, 0  \n",
    "            if A[i] == A[k]:\n",
    "                B[i, k] = A[k]\n",
    "    \n",
    "    return B"
   ]
  },
  {
   "cell_type": "markdown",
   "metadata": {},
   "source": [
    "$Print$ $Jx ,Jy ,Jz$"
   ]
  },
  {
   "cell_type": "code",
   "execution_count": 14,
   "metadata": {},
   "outputs": [
    {
     "name": "stdout",
     "output_type": "stream",
     "text": [
      "Jx_matrix =\n",
      "⎡    √2    ⎤\n",
      "⎢0   ──  0 ⎥\n",
      "⎢    2     ⎥\n",
      "⎢          ⎥\n",
      "⎢√2      √2⎥\n",
      "⎢──  0   ──⎥\n",
      "⎢2       2 ⎥\n",
      "⎢          ⎥\n",
      "⎢    √2    ⎥\n",
      "⎢0   ──  0 ⎥\n",
      "⎣    2     ⎦\n",
      "\n",
      "Jy_matrix =\n",
      "⎡      -√2⋅ⅈ         ⎤\n",
      "⎢ 0    ──────    0   ⎥\n",
      "⎢        2           ⎥\n",
      "⎢                    ⎥\n",
      "⎢√2⋅ⅈ          -√2⋅ⅈ ⎥\n",
      "⎢────    0     ──────⎥\n",
      "⎢ 2              2   ⎥\n",
      "⎢                    ⎥\n",
      "⎢       √2⋅ⅈ         ⎥\n",
      "⎢ 0     ────     0   ⎥\n",
      "⎣        2           ⎦\n",
      "\n",
      "Jz_matrix =\n",
      "⎡1  0  0 ⎤\n",
      "⎢        ⎥\n",
      "⎢0  0  0 ⎥\n",
      "⎢        ⎥\n",
      "⎣0  0  -1⎦\n",
      "Jx = (hbar/(2*pi)) * Jx_matrix\n",
      "Jy = (hbar/(2*pi)) * Jy_matrix\n",
      "Jz = (hbar/(2*pi)) * Jz_matrix\n"
     ]
    }
   ],
   "source": [
    "print(\"Jx_matrix =\")\n",
    "Jx_matrix = Jx(j, A) \n",
    "sp.pprint(Jx_matrix) \n",
    "print(\"\\nJy_matrix =\")\n",
    "Jy_matrix = Jy(j, A) \n",
    "sp.pprint(Jy_matrix) \n",
    "print(\"\\nJz_matrix =\")\n",
    "Jz_matrix = Jz(j, A)  \n",
    "sp.pprint(Jz_matrix)\n",
    "\n",
    "print(\"Jx = (hbar/(2*pi)) * Jx_matrix\")\n",
    "print(\"Jy = (hbar/(2*pi)) * Jy_matrix\")\n",
    "print(\"Jz = (hbar/(2*pi)) * Jz_matrix\")"
   ]
  },
  {
   "cell_type": "markdown",
   "metadata": {},
   "source": [
    "$print$ $J^2$"
   ]
  },
  {
   "cell_type": "code",
   "execution_count": 15,
   "metadata": {},
   "outputs": [
    {
     "name": "stdout",
     "output_type": "stream",
     "text": [
      "\n",
      "JJ_matrix =\n",
      "[[2 0 0] \n",
      " [0 2 0] \n",
      " [0 0 2]]\n",
      "JJ = (hbar/(2*pi))^2 * JJ_matrix\n"
     ]
    }
   ],
   "source": [
    "JJ_matrix = sp.zeros(2*j +1)\n",
    "JJ_matrix = np.dot(Jx_matrix,Jx_matrix) + np.dot(Jy_matrix,Jy_matrix) + np.dot(Jz_matrix,Jz_matrix)\n",
    "print(\"\\nJJ_matrix =\")\n",
    "sp.pprint(JJ_matrix)\n",
    "\n",
    "print(\"JJ = (hbar/(2*pi))^2 * JJ_matrix\")"
   ]
  },
  {
   "cell_type": "code",
   "execution_count": null,
   "metadata": {},
   "outputs": [],
   "source": []
  }
 ],
 "metadata": {
  "kernelspec": {
   "display_name": "qiskit-env",
   "language": "python",
   "name": "python3"
  },
  "language_info": {
   "codemirror_mode": {
    "name": "ipython",
    "version": 3
   },
   "file_extension": ".py",
   "mimetype": "text/x-python",
   "name": "python",
   "nbconvert_exporter": "python",
   "pygments_lexer": "ipython3",
   "version": "3.13.1"
  }
 },
 "nbformat": 4,
 "nbformat_minor": 2
}
